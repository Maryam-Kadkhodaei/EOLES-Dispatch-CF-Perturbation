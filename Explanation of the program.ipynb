{
    "cells": [
        {
            "cell_type": "markdown",
            "source": [
                "# Introduction\r\n",
                "\r\n",
                "## GAMS\r\n",
                "\r\n",
                "GAMS is a high level modeling system for mathematical programming and optimization. It consists of a language compiler and a range of associated solvers. GAMS is designed for modeling and solving linear, nonlinear, and mixed-integer optimization problems. The first presentation of GAMS was in 1976, at the International Symposium on Mathematical Programming (ISMP). It's the first algebraic modeling language (AML). GAMS is a non-free software, it has a proprietary licence.\r\n",
                "\r\n",
                "## Python and Pyomo\r\n",
                "\r\n",
                "### Python\r\n",
                "\r\n",
                "Python is an interpreted, object-oriented, high-level programming language with dynamic semantics. Python supports modules and packages, which encourages program modularity and code reuse. It is developed under an OSI-approved open source license, making it freely usable and distributable, even for commercial use. The first version of Python was published in 1991 by Guido van Rossum, a Dutch programmer.\r\n",
                "\r\n",
                "### Pyomo\r\n",
                "\r\n",
                "Pyomo is a Python-based, open-source optimization modeling language with a diverse set of optimization capabilities for formulating, solving, and analyzing optimization models. Pyomo supports a wide range of problem types, including Linear programming, Nonlinear programming, Mixed-integer linear programming and more\r\n",
                "\r\n",
                "### Why Pyomo ?\r\n",
                "\r\n",
                "GAMS is a software which isn't free, then students and people who don't pay for it can't use the model as much as they want. So this is why the CIRED wanted a translation in an open-source language. Python with Pyomo offers a very good alternative of GAMS, It is easy-to-use, and more and more school uses Python to teach algorithm.\r\n",
                "\r\n",
                "## The Translation\r\n",
                "\r\n",
                "### Presentation of the work\r\n",
                "\r\n",
                "### Things to know before reading\r\n",
                "\r\n",
                "There is some things to know before programming in *Python* : \r\n",
                "- Variables are created when you assign a value to it. Python has no command for declaring a variable. The type of the variable depends of the value assigned to it. \r\n",
                "- There is no `;` at the end of an instruction, in *Python*, the end of an instruction is the end of the line.\r\n",
                "    - But for a better reading of, we can use `\\` to put the end of an instruction on a new line.\r\n",
                "- The identation of your code is very important. Python uses indentation to indicate a block of code. If you skip the identation, Python will return an error.\r\n",
                "- A tuple is an unchangeable collection of elements.  It can be any types. Tuple are define using `()`.\r\n",
                "\r\n",
                "# Pyomo Formulation\r\n",
                "\r\n",
                "## Imports\r\n",
                "\r\n",
                "In Python, there is a lot of libraries and modules created by the community like pyomo. We can import them with ``import``\r\n",
                "For this program we will use : \r\n",
                "* Pandas, a powerful, easy to use and open source data analysis and data manipulation tool.\r\n",
                "* Csv, A tool for python to write into csv files.\r\n",
                "* Time, A tool which will help us to measure the lenght of the program.\r\n",
                "* Sys, Which will help us to manage error in the program.\r\n",
                "\r\n",
                "On the first line, the word **as** is used to set an alias. Each time we want to call a *pyomo.environ* function, we just have to call *pyo* instead."
            ],
            "metadata": {}
        },
        {
            "cell_type": "code",
            "execution_count": 1,
            "source": [
                "#Import Modules\r\n",
                "import pyomo.environ as pyo\r\n",
                "from pyomo.opt import SolverFactory\r\n",
                "import pandas as pd\r\n",
                "import csv\r\n",
                "import time\r\n",
                "import sys"
            ],
            "outputs": [],
            "metadata": {}
        },
        {
            "cell_type": "markdown",
            "source": [
                "## Creation of the model\r\n",
                "\r\n",
                "In pyomo, the model has to be declared first. It will be created as an object. \\\r\n",
                "Each component we will define will be an attribute of this object. \\\r\n",
                "There are two type of models in Pyomo, `ConcreteModel` and `AbstractModel`.\\\r\n",
                "Eoles is a `ConcreteModel`.\r\n",
                "\r\n",
                "The suffix component of Pyomo is here to set a dual variable. Used to get the marginal value of an equation."
            ],
            "metadata": {}
        },
        {
            "cell_type": "code",
            "execution_count": 2,
            "source": [
                "#Creation of the model\r\n",
                "model = pyo.ConcreteModel()\r\n",
                "\r\n",
                "#Dual Variable, used to get the marginal value of an equation.\r\n",
                "model.dual = pyo.Suffix(direction=pyo.Suffix.IMPORT)"
            ],
            "outputs": [],
            "metadata": {}
        },
        {
            "cell_type": "markdown",
            "source": [
                "## Inputs\r\n",
                "\r\n",
                "The method ``read_csv`` of *Pandas* is used to read a csv file into a DataFrame :\r\n",
                "* The first argument is the ``PATH`` of the file.\r\n",
                "* ``index_col``   : Column to use as the index of the DataFrame.\r\n",
                "* ``squeeze``     : Boolean which is true in our program then if the parsed data only contains one column it will return a series.\r\n",
                "* ``header``      : Specify if the csv file contains a header.\r\n"
            ],
            "metadata": {}
        },
        {
            "cell_type": "code",
            "execution_count": 3,
            "source": [
                "# Production profiles of VRE\r\n",
                "load_factor = pd.read_csv(\"inputs/vre_profiles2006new.csv\", index_col=[0, 1], squeeze=True, header=None)\r\n",
                "# maximum capacities of the technologies in GW\r\n",
                "capa_max = pd.read_csv(\"inputs/max_capas_elec_new.csv\", index_col=0, squeeze=True, header=None)\r\n",
                "# existing capacities of the technologies by December 2017 in GW\r\n",
                "capa_ex = pd.read_csv(\"inputs/existing_capas_elec_new.csv\", index_col=0, squeeze=True, header=None)\r\n",
                "\r\n",
                "##  Equivalent in GAMS  ##\r\n",
                "#   parameter load_factor(vre,h) 'Production profiles of VRE'\r\n",
                "#   /\r\n",
                "#   $ondelim\r\n",
                "#   $include  inputs/vre_profiles2006new.csv\r\n",
                "#   $offdelim\r\n",
                "#   /;\r\n",
                "#   parameter capa_max(vre) 'maximum capacities of the technologies in GW'\r\n",
                "#   /\r\n",
                "#   $ondelim\r\n",
                "#   $include  inputs/max_capas_elec_new.csv\r\n",
                "#   $offdelim\r\n",
                "#   / ;"
            ],
            "outputs": [],
            "metadata": {}
        },
        {
            "cell_type": "markdown",
            "source": [
                "## Sets\r\n",
                "\r\n",
                "Sets are created with the ``Set`` attributs of *Pyomo*. We are passing elements in a table with the option _initialize_ : \\\r\n",
                "`model.set_name = pyo.Set(initialize=[\"elem_1\",\"elem_2\",\"...\"])` \\\r\n",
                "There is also `RangeSet` which needs the first and the last elements of the set : \\\r\n",
                "`model.set_range_name = pyo.RangeSet(0,10)`\r\n",
                "\r\n",
                "There is no need to define the domain of a subset."
            ],
            "metadata": {}
        },
        {
            "cell_type": "code",
            "execution_count": 4,
            "source": [
                "#Declaration of the Sets\r\n",
                "model.tec = pyo.Set(initialize=[\"offshore_f\", \"river\", \"lake\", \"ccgt\"])\r\n",
                "model.vre = pyo.Set(initialize=[\"offshore_f\", \"river\"])\r\n",
                "#Declaration of a RangeSet from 0 to 8759.\r\n",
                "model.h = pyo.RangeSet(0,8759)\r\n",
                "\r\n",
                "##  Equivalent in GAMS   ##\r\n",
                "#   sets     h          'hour in the model'     /0*8759/\r\n",
                "#            tec        'technology'            /offshore_f, river, lake, ccgt /\r\n",
                "#            vre(tec)   'variable tecs'         /offshore_f, river /\r\n",
                "#   ;"
            ],
            "outputs": [],
            "metadata": {}
        },
        {
            "cell_type": "markdown",
            "source": [
                "## Initial Values and Bounds\r\n",
                "\r\n",
                "For the variables of the model, we first declared a function which will return the lower bound and the upper bound of the variable in a tuple. Arguments of the function are the model object (here \"model\") and the parameters of the variable. \\\r\n",
                "The variable will iterate on this function through its parameters so we can defined for each parameters, bounds we want : \r\n",
                "```\r\n",
                "def function_name(model_object,argument):\r\n",
                "    if argument in [condition] :\r\n",
                "        return (lower_value,upper_value)\r\n",
                "    else :\r\n",
                "        return (value_lower,value_upper)\r\n",
                "```"
            ],
            "metadata": {}
        },
        {
            "cell_type": "code",
            "execution_count": 5,
            "source": [
                "def capa_bounds(model,i):\r\n",
                "    if i == 'phs' :\r\n",
                "        #In the pyomo model, data are in miscellaneous.csv file\r\n",
                "        return (miscellaneous['phs_discharging_lower'],miscellaneous['phs_discharging_upper'])\r\n",
                "    elif i in model.vre:\r\n",
                "        return(None,capa_max[i])\r\n",
                "    else :\r\n",
                "        return(None,None)\r\n",
                "\r\n",
                "##  Equivalent in GAMS  ##\r\n",
                "#   CAPA.lo('phs') = 4.94;\r\n",
                "#   CAPA.up('phs') = 9.3;\r\n",
                "#   CAPA.up(vre) = capa_max(vre);"
            ],
            "outputs": [],
            "metadata": {}
        },
        {
            "cell_type": "markdown",
            "source": [
                "## Variables\r\n",
                "\r\n",
                "Variables are created with the ``Variable`` attributs of *Pyomo*. We are passing sets as an argument with some options :\r\n",
                "```\r\n",
                "model.var_name = pyo.Var(\r\n",
                "    (sets_names),\r\n",
                "    within=domain,\r\n",
                "    initialization=initial_value,\r\n",
                "    bounds=function we defined earlier\r\n",
                "    )\r\n",
                "```\r\n",
                "If there is many sets in the parameters of a variable, you have to declare a tuple and set this tuple with a for loop. You can see how ot works in the example  : **model.gene** \\\r\n",
                "The option ``within=pyo.NonNegativeReals``, is from *Pyomo*, it means all positive reals including zero.\\\r\n",
                "You can find more domain set by *Pyomo* in the documentation.\r\n"
            ],
            "metadata": {}
        },
        {
            "cell_type": "code",
            "execution_count": 6,
            "source": [
                "    # Hourly energy generation in GWh/h\r\n",
                "model.gene = \\\r\n",
                "    pyo.Var(((tec, h) for tec in model.tec for h in model.h), within=pyo.NonNegativeReals,initialize=0)\r\n",
                "    # Overall yearly installed capacity in GW\r\n",
                "model.capa = \\\r\n",
                "    pyo.Var(model.tec, within=pyo.NonNegativeReals, initialize=0,bounds=capa_bounds)\r\n",
                "\r\n",
                "##  Equivalent in GAMS  ##\r\n",
                "#   variables   GENE(tec,h) 'hourly energy generation in TWh'\r\n",
                "#               CAPA(tec)   'overall installed capacity in GW'\r\n",
                "#\r\n",
                "#   positive variables GENE(tec,h),CAPA(tec);\r\n"
            ],
            "outputs": [],
            "metadata": {}
        },
        {
            "cell_type": "markdown",
            "source": [
                "## Fixed Values\r\n",
                "\r\n",
                "Fixed values are set with the variable's function `fix()`. We just have to call this function with the value we want between parenthesis : \r\n",
                "```\r\n",
                "model.variable_name['element'].fix(value)\r\n",
                "```"
            ],
            "metadata": {}
        },
        {
            "cell_type": "code",
            "execution_count": 7,
            "source": [
                "model.capa['lake'].fix(capa_ex['lake'])\r\n",
                "model.capa['river'].fix(capa_ex['river'])\r\n",
                "\r\n",
                "##  Equivalent in GAMS  ##\r\n",
                "#   CAPA.fx('river')= capa_ex('river');\r\n",
                "#   CAPA.fx('lake') = capa_ex('lake');"
            ],
            "outputs": [],
            "metadata": {}
        },
        {
            "cell_type": "markdown",
            "source": [
                "## Constraints\r\n",
                " \r\n",
                "With *Pyomo*, constraints creation needs two steps. First we will defined a function which will return the equation of the constraint. Then we will create the constraint with the ``Constraint`` attribut of *Pyomo*. This `Constraint` will have the function we just defined into a ``rule`` argument.\r\n",
                "The order of the argument in the definition of the function is very important, it has to be the same as in the constraint creation despite the constraint doesn't need the model object as a parameters :\r\n",
                "```\r\n",
                "def contraint_name_rule(model_object,argument):\r\n",
                "    return model_object.variable_name[argument] == model_object.name_variable[argument]\r\n",
                "\r\n",
                "model.constraint_name = pyo.Constraint(argument,rule=constraint_name_rule)\r\n",
                "```\r\n",
                "\r\n",
                "Relational Operators are differents between GAMS and Python :\r\n",
                "\r\n",
                "GAMS    | Python    | Definition                |\r\n",
                "---     | ---       | ---                       |\r\n",
                "=e=     | ==        | Equal to                  |\r\n",
                "=g=     | >=        | Greater than or equal to  |\r\n",
                "=l=     | <=        | Less than or equal to     |"
            ],
            "metadata": {}
        },
        {
            "cell_type": "code",
            "execution_count": 8,
            "source": [
                "def generation_vre_constraint_rule(model, h, vre):\r\n",
                "    return model.gene[vre, h] == model.capa[vre] * load_factor[vre,h]\r\n",
                "\r\n",
                "model.generation_vre_constraint = \\\r\n",
                "    pyo.Constraint(model.h, model.vre, rule=generation_vre_constraint_rule)\r\n",
                "\r\n",
                "##  Equivalent in GAMS ##\r\n",
                "#   equation    gene_vre    'vre profiles generation\";\r\n",
                "#\r\n",
                "#   gene_vre(vre,h)..   GENE(vre,h) =e= CAPA(vre)*load_factor(vre,h);"
            ],
            "outputs": [],
            "metadata": {}
        },
        {
            "cell_type": "markdown",
            "source": [
                "The definition of the objective is a little bit different between GAMS and Pyomo. In GAMS, the objective is a constraint like an other. \\\r\n",
                "In Pyomo, the objective rule function doesn't return an equation but directly the value of the objective. But the creation of the `Objective` is pretty similar as the creation of a `Constraint`. We just have to use `Pyo.Objective` instead as `Pyo.Constraint`"
            ],
            "metadata": {}
        },
        {
            "cell_type": "code",
            "execution_count": 9,
            "source": [
                "#This objective function is not accurate, it's juste here to illustrate the concept\r\n",
                "def objective_rule(model):\r\n",
                "    return (sum(model.capa[tec] for tec in model.tec))/1000\r\n",
                "\r\n",
                "model.objective = pyo.Objective(rule=objective_rule)\r\n",
                "\r\n",
                "##  Equivalent in GAMS  ##\r\n",
                "#   equation    obj     'the final objective\";\r\n",
                "#\r\n",
                "#   obj..       COST =e= sum(tec,CAPA(tec))/1000;  "
            ],
            "outputs": [],
            "metadata": {}
        },
        {
            "cell_type": "markdown",
            "source": [
                "## Solve Statement\r\n",
                "\r\n",
                "To Solve the model, we have to create the solver with `SolverFactory`. Then we can solve it with `solve(model_object)`"
            ],
            "metadata": {}
        },
        {
            "cell_type": "code",
            "execution_count": 10,
            "source": [
                "opt = SolverFactory('gurobi')\r\n",
                "results = opt.solve(model)\r\n",
                "\r\n",
                "##  Equivalent in GAMS  ##\r\n",
                "#   model Eoles_elec /all/;\r\n",
                "#   option lp = gurobi;"
            ],
            "outputs": [],
            "metadata": {}
        },
        {
            "cell_type": "markdown",
            "source": [
                "## Outputs\r\n",
                "\r\n",
                "Outputs are managed with a library : **csv**. \\\r\n",
                "There is an try/except instruction to manage errors : the program will try to write in the file and if this doesn't work, an error will be return. With this instruction, the programm will not stop if there is an error about an output. \\\r\n",
                "`with` allows us to open a file (to write in it) without closing it after. The file will be closed at the end of the instruction.  \\\r\n",
                "To access a value from a Pyomo attribut (Constraint or Variable) : ``pyo.value(model.attribut_name)``.\r\n",
                "\r\n",
                "This is like `display` in GAMS."
            ],
            "metadata": {}
        },
        {
            "cell_type": "code",
            "execution_count": 11,
            "source": [
                "\"\"\"Creation of an output for eoles :\"\"\"\r\n",
                "\r\n",
                "#Name of the model, only used to name outputs\r\n",
                "model_name = \"Example\"\r\n",
                "\r\n",
                "#Name of the file\r\n",
                "out_file = \"outputs/eoles_\" + model_name + \"_summary.csv\"\r\n",
                "\r\n",
                "#Try / Except : To manage errors\r\n",
                "try:\r\n",
                "    #As il like \"alias\", here we open the file and we set an alias for this file.\r\n",
                "    with open(out_file,\"w\",newline=\"\") as output:\r\n",
                "\r\n",
                "        #Definition of a writer of the csv library.\r\n",
                "        output_writer = csv.writer(output)\r\n",
                "\r\n",
                "        #We set the value we want in a table then we write it as a row.\r\n",
                "        data = [\"Cost\",pyo.value(model.objective),\"...\"]\r\n",
                "        output_writer.writerow(data)\r\n",
                "\r\n",
                "#This instruction we be execute only if the program catch an error.\r\n",
                "except Exception as e:\r\n",
                "    print(\"There is an Error :\",e.args)"
            ],
            "outputs": [],
            "metadata": {}
        },
        {
            "cell_type": "markdown",
            "source": [
                "# References\r\n",
                "\r\n",
                "* __Eoles__ : http://www.centre-cired.fr/quel-mix-electrique-optimal-en-france-en-2050/\r\n",
                "* __Python__ : https://docs.python.org/3/\r\n",
                "* __Pyomo__ : https://pyomo.readthedocs.io/en/stable/index.html\r\n",
                "* __GAMS__ : https://www.gams.com/latest/docs/\r\n",
                "* __Pandas__ : https://pandas.pydata.org/pandas-docs/stable/index.html\r\n",
                "\r\n",
                "If you have any question about this document or about the program you can ask on : *nilam.deoliveiragill@gmail.com*\r\n",
                "\r\n"
            ],
            "metadata": {}
        }
    ],
    "metadata": {
        "orig_nbformat": 4,
        "language_info": {
            "name": "python",
            "version": "3.8.10",
            "mimetype": "text/x-python",
            "codemirror_mode": {
                "name": "ipython",
                "version": 3
            },
            "pygments_lexer": "ipython3",
            "nbconvert_exporter": "python",
            "file_extension": ".py"
        },
        "kernelspec": {
            "name": "python3",
            "display_name": "Python 3.8.10 64-bit ('gmsjupyter': conda)"
        },
        "interpreter": {
            "hash": "04e0a545b30681df3deda95b52dda5529d566be594c8b5068dd606135c61d9a9"
        }
    },
    "nbformat": 4,
    "nbformat_minor": 2
}